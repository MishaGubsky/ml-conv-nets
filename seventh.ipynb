{
  "nbformat": 4,
  "nbformat_minor": 0,
  "metadata": {
    "kernelspec": {
      "display_name": "Python 3.7.4 64-bit ('ml': conda)",
      "language": "python",
      "name": "python37464bitmlconda307ef14b22654f0abeb262b86127395b"
    },
    "language_info": {
      "codemirror_mode": {
        "name": "ipython",
        "version": 3
      },
      "file_extension": ".py",
      "mimetype": "text/x-python",
      "name": "python",
      "nbconvert_exporter": "python",
      "pygments_lexer": "ipython3",
      "version": "3.7.4"
    },
    "colab": {
      "name": "seventh.ipynb",
      "provenance": [],
      "collapsed_sections": [
        "gLMFbmL1rwlQ",
        "iI3U-nYEjtdy",
        "ycaLtdSajtd3",
        "2uTKfIX_jtd7",
        "xBtA8Vygjtd_"
      ],
      "toc_visible": true,
      "machine_shape": "hm"
    },
    "accelerator": "GPU"
  },
  "cells": [
    {
      "cell_type": "markdown",
      "metadata": {
        "id": "k7IaTfKOjtdq",
        "colab_type": "text"
      },
      "source": [
        "# Лабораторная работа №7. Рекуррентные нейронные сети для анализа текста"
      ]
    },
    {
      "cell_type": "markdown",
      "metadata": {
        "id": "se36lS1zjtdr",
        "colab_type": "text"
      },
      "source": [
        "**Данные:**\n",
        "\n",
        "Набор данных для предсказания оценок для отзывов, собранных с сайта imdb.com, который состоит из 50,000 отзывов в виде текстовых файлов. Отзывы разделены на положительные (25,000) и отрицательные (25,000). Данные предварительно токенизированы по принципу “мешка слов”, индексы слов можно взять из словаря (imdb.vocab). Обучающая выборка включает в себя 12,500 положительных и 12,500 отрицательных отзывов, контрольная выборка также содержит 12,500 положительных и 12,500 отрицательных отзывов, а также. Данные можно скачать по ссылке https://ai.stanford.edu/~amaas/data/sentiment/"
      ]
    },
    {
      "cell_type": "code",
      "metadata": {
        "id": "LRA-ciIWAsRf",
        "colab_type": "code",
        "colab": {}
      },
      "source": [
        "# !pip install tensorflow==2.2rc0"
      ],
      "execution_count": 0,
      "outputs": []
    },
    {
      "cell_type": "code",
      "metadata": {
        "id": "lod5XbgFhaX0",
        "colab_type": "code",
        "colab": {}
      },
      "source": [
        "import tensorflow as tf\n",
        "import IPython.display as display\n",
        "from PIL import Image\n",
        "import numpy as np\n",
        "import pandas as pd\n",
        "import matplotlib.pyplot as plt\n",
        "from sklearn.model_selection import train_test_split\n",
        "import os\n",
        "import re\n",
        "import pdb\n",
        "import pathlib\n",
        "import re\n",
        "import zipfile\n",
        "import tensorflow_datasets as tfds"
      ],
      "execution_count": 0,
      "outputs": []
    },
    {
      "cell_type": "code",
      "metadata": {
        "id": "0RIVPwDbRRXs",
        "colab_type": "code",
        "outputId": "7cf4d62d-c129-46ee-9ca3-3e51407cd8da",
        "colab": {
          "base_uri": "https://localhost:8080/",
          "height": 122
        }
      },
      "source": [
        "from google.colab import drive\n",
        "drive.mount('/content/drive')"
      ],
      "execution_count": 6,
      "outputs": [
        {
          "output_type": "stream",
          "text": [
            "Go to this URL in a browser: https://accounts.google.com/o/oauth2/auth?client_id=947318989803-6bn6qk8qdgf4n4g3pfee6491hc0brc4i.apps.googleusercontent.com&redirect_uri=urn%3aietf%3awg%3aoauth%3a2.0%3aoob&response_type=code&scope=email%20https%3a%2f%2fwww.googleapis.com%2fauth%2fdocs.test%20https%3a%2f%2fwww.googleapis.com%2fauth%2fdrive%20https%3a%2f%2fwww.googleapis.com%2fauth%2fdrive.photos.readonly%20https%3a%2f%2fwww.googleapis.com%2fauth%2fpeopleapi.readonly\n",
            "\n",
            "Enter your authorization code:\n",
            "··········\n",
            "Mounted at /content/drive\n"
          ],
          "name": "stdout"
        }
      ]
    },
    {
      "cell_type": "code",
      "metadata": {
        "id": "9lVTd45LJ4V6",
        "colab_type": "code",
        "colab": {}
      },
      "source": [
        "device_name = tf.test.gpu_device_name()\n",
        "if device_name != '/device:GPU:0':\n",
        "    print(\n",
        "        '\\n\\nThis error most likely means that this notebook is not '\n",
        "        'configured to use a GPU.  Change this in Notebook Settings via the '\n",
        "        'command palette (cmd/ctrl-shift-P) or the Edit menu.\\n\\n')\n",
        "    raise SystemError('GPU device not found')"
      ],
      "execution_count": 0,
      "outputs": []
    },
    {
      "cell_type": "code",
      "metadata": {
        "id": "QdO5yYCPgcY9",
        "colab_type": "code",
        "colab": {}
      },
      "source": [
        "DRIVE_DIR = '/content/drive/My Drive/Colab Notebooks/7/'"
      ],
      "execution_count": 0,
      "outputs": []
    },
    {
      "cell_type": "markdown",
      "metadata": {
        "id": "Ge4MMw33jKWP",
        "colab_type": "text"
      },
      "source": [
        "Скачиваем данные"
      ]
    },
    {
      "cell_type": "code",
      "metadata": {
        "id": "wA6B3YwQjtds",
        "colab_type": "code",
        "outputId": "6be114e4-a180-4803-9c5c-21ce6f5d55e9",
        "colab": {
          "base_uri": "https://localhost:8080/",
          "height": 51
        }
      },
      "source": [
        "aclImdb_v1_file_path = tf.keras.utils.get_file(\"aclImdb_v1\", 'https://ai.stanford.edu/~amaas/data/sentiment/aclImdb_v1.tar.gz', cache_dir='/content', untar=True, extract=True)"
      ],
      "execution_count": 9,
      "outputs": [
        {
          "output_type": "stream",
          "text": [
            "Downloading data from https://ai.stanford.edu/~amaas/data/sentiment/aclImdb_v1.tar.gz\n",
            "84131840/84125825 [==============================] - 2s 0us/step\n"
          ],
          "name": "stdout"
        }
      ]
    },
    {
      "cell_type": "markdown",
      "metadata": {
        "id": "gLMFbmL1rwlQ",
        "colab_type": "text"
      },
      "source": [
        "#### model"
      ]
    },
    {
      "cell_type": "code",
      "metadata": {
        "id": "tAQlGHYpuNoV",
        "colab_type": "code",
        "colab": {}
      },
      "source": [
        "import random\n",
        "import datetime\n",
        "\n",
        "class Model:\n",
        "    EPOCH_COUNT = 10\n",
        "    \n",
        "    def __init__(self, layers=[], model=None, optimizer=None, loss='sparse_categorical_crossentropy'):\n",
        "        self.layers = layers\n",
        "        self.model = model\n",
        "        self.loss = loss\n",
        "        self.optimizer = optimizer or tf.keras.optimizers.SGD(learning_rate=0.1)\n",
        "        if not self.model:\n",
        "            self.initialize()\n",
        "        print('----------------------------------------------------------------------------------------')\n",
        "        print(self.summary())\n",
        "        print('----------------------------------------------------------------------------------------')\n",
        "\n",
        "    def initialize(self):\n",
        "        self.model = tf.keras.models.Sequential(self.layers)\n",
        "        self.model.compile(loss=self.loss, optimizer=self.optimizer, metrics=['accuracy'])\n",
        "        \n",
        "    def _train_on_batches(self, iterator, batch_count, epochs=None, **kwargs):\n",
        "        epochs = epochs or self.EPOCH_COUNT\n",
        "        loss, tran_accuracy, val_loss, val_accuracy = np.zeros((4, batch_count, epochs))\n",
        "\n",
        "        for i in range(batch_count):\n",
        "            print('----------------------------------------------------------------------------------------')\n",
        "            print(f'Train on batch #{i}')\n",
        "            print('----------------------------------------------------------------------------------------')\n",
        "            x, y = next(iterator)\n",
        "            batch_history = self.model.fit(x,  y, epochs=epochs, **kwargs)\n",
        "            loss[i, :] = batch_history.history['loss']\n",
        "            tran_accuracy[i, :] = batch_history.history['accuracy']\n",
        "            if batch_history.history.get('val_accuracy'):\n",
        "                val_accuracy[i, :] = batch_history.history.get('val_accuracy')[-1]\n",
        "            if batch_history.history.get('val_loss'):\n",
        "                val_loss[i, :] = batch_history.history.get('val_loss')[-1]\n",
        "\n",
        "        val_loss = val_loss if np.any(val_loss) else None\n",
        "        val_accuracy = val_accuracy if np.any(val_accuracy) else None\n",
        "\n",
        "        return loss, tran_accuracy, val_loss, val_accuracy\n",
        "\n",
        "    def _train_on_full_data(self, iterator, epochs=None, **kwargs):\n",
        "        print('----------------------------------------------------------------------------------------')\n",
        "        print(f'Train on full data')\n",
        "        print('----------------------------------------------------------------------------------------')\n",
        "        epochs = epochs or self.EPOCH_COUNT\n",
        "        history = self.model.fit(iterator, epochs=epochs, **kwargs)\n",
        "        loss = np.array([history.history['loss']])\n",
        "        tran_accuracy = np.array([history.history['accuracy']])\n",
        "        val_loss = np.array([history.history.get('val_loss')])\n",
        "        val_accuracy = np.array([history.history.get('val_accuracy')])\n",
        "\n",
        "        val_loss = val_loss if np.any(val_loss) else None\n",
        "        val_accuracy = val_accuracy if np.any(val_accuracy) else None\n",
        "\n",
        "        return loss, tran_accuracy, val_loss, val_accuracy\n",
        "\n",
        "    def _plot_train_accuracy_graphs(self, loss, tran_accuracy, validation_loss=[], validation_accuracy=[], mode='batch'):\n",
        "        print('----------------------------------------------------------------------------------------')\n",
        "        if mode == 'batch':\n",
        "            plt.figure(figsize=(15, 12))\n",
        "            ax_shape = (2, 2)\n",
        "        else:\n",
        "            plt.figure(figsize=(15,5))\n",
        "            ax_shape = (1, 2)\n",
        "\n",
        "        xlabel = 'Epochs'\n",
        "        ax = plt.subplot(*ax_shape, 1)\n",
        "        ax.set_xlabel(xlabel, fontsize=14)\n",
        "        ax.set_ylabel('Loss', fontsize=14)\n",
        "\n",
        "        epochs_loss = np.average(loss, axis=0)\n",
        "        ax.plot(epochs_loss)\n",
        "        if np.any(validation_loss):\n",
        "            val_epochs_loss = np.average(validation_loss, axis=0)\n",
        "            ax.plot(val_epochs_loss, '--')\n",
        "\n",
        "\n",
        "        ax = plt.subplot(*ax_shape, 2)\n",
        "        ax.set_xlabel(xlabel, fontsize=14)\n",
        "        ax.set_ylabel('Accuracy', fontsize=14)\n",
        "\n",
        "        epochs_accuracy = np.average(tran_accuracy, axis=0)\n",
        "        ax.plot(epochs_accuracy)\n",
        "        if np.any(validation_accuracy):\n",
        "            val_epochs_accuracy = np.average(validation_accuracy, axis=0)\n",
        "            ax.plot(val_epochs_accuracy, '--')\n",
        "\n",
        "        if mode == 'batch':\n",
        "            xlabel = 'Batches'\n",
        "            ax = plt.subplot(*ax_shape, 3)\n",
        "            ax.set_xlabel(xlabel, fontsize=14)\n",
        "            ax.set_ylabel('Loss', fontsize=14)\n",
        "\n",
        "            batches_loss = np.average(loss, axis=1)\n",
        "            ax.plot(batches_loss)\n",
        "            if np.any(validation_loss):\n",
        "                val_batches_loss = np.average(validation_loss, axis=1)\n",
        "                ax.plot(val_batches_loss, '--')\n",
        "\n",
        "            ax = plt.subplot(*ax_shape, 4)\n",
        "            ax.set_xlabel(xlabel, fontsize=14)\n",
        "            ax.set_ylabel('Accuracy', fontsize=14)\n",
        "\n",
        "            batches_accuracy = np.average(tran_accuracy, axis=1)\n",
        "            ax.plot(batches_accuracy)\n",
        "            if np.any(validation_accuracy):\n",
        "                val_batches_accuracy = np.average(validation_accuracy, axis=1)\n",
        "                ax.plot(val_batches_accuracy, '--')\n",
        "        \n",
        "        plt.show()\n",
        "\n",
        "    def _show_train_result(self, spent_time, average_loss, average_tran_accuracy, val_loss=None, val_accuracy=None):\n",
        "        print('----------------------------------------------------------------------------------------')\n",
        "        print('Spent time:', spent_time)\n",
        "        print('Average loss error:', average_loss)\n",
        "        print('Average train error:', average_tran_accuracy)\n",
        "        if val_loss is not None:\n",
        "            print('Average validation loss error:', val_loss)\n",
        "        if val_accuracy is not None:\n",
        "            print('Average validation error:', val_accuracy)\n",
        "        print('----------------------------------------------------------------------------------------')\n",
        "\n",
        "    def train(self, iterator, batch_count=None, show_accuracy_graph=True, **kwargs):\n",
        "        now = datetime.datetime.now()\n",
        "        val_accuracy = []\n",
        "\n",
        "        if batch_count:\n",
        "            loss, tran_accuracy, val_loss, val_accuracy =  self._train_on_batches(iterator, batch_count, **kwargs)\n",
        "        else:\n",
        "            print('----------------------------------------------------------------------------------------')\n",
        "            print(f'Started at {now}')\n",
        "            loss, tran_accuracy, val_loss, val_accuracy =  self._train_on_full_data(iterator, **kwargs)\n",
        "\n",
        "        if show_accuracy_graph:\n",
        "            mode = 'batch' if batch_count else 'epoch'\n",
        "            self._plot_train_accuracy_graphs(loss, tran_accuracy, val_loss, val_accuracy, mode=mode)\n",
        "\n",
        "        average_loss = np.average(loss)\n",
        "        average_tran_accuracy = np.average(tran_accuracy)\n",
        "        average_val_loss = np.any(val_loss) and np.average(val_loss)\n",
        "        average_val_accuracy = np.any(val_accuracy) and np.average(val_accuracy)\n",
        "        self._show_train_result(\n",
        "            datetime.datetime.now() - now,\n",
        "            average_loss,\n",
        "            average_tran_accuracy,\n",
        "            average_val_loss,\n",
        "            average_val_accuracy\n",
        "        )\n",
        "\n",
        "        return {'loss': loss, 'accuracy': tran_accuracy, 'val_accuracy': val_accuracy}\n",
        "\n",
        "    def test(self, x_test, y_test=None, **kwargs):\n",
        "        return self.model.evaluate(x_test,  y_test, **kwargs)\n",
        "    \n",
        "    def summary(self):\n",
        "        return self.model.summary()\n",
        "\n",
        "    def predict(self, data, **kwargs):\n",
        "        return self.model.predict(data, **kwargs)\n",
        "\n",
        "    def save(self, **kwargs):\n",
        "        filedir = kwargs.pop('filedir', './')\n",
        "        filepath = filedir + kwargs.pop('filename', self.model.name)\n",
        "        tf.keras.models.save_model(self.model, filepath, **kwargs)"
      ],
      "execution_count": 0,
      "outputs": []
    },
    {
      "cell_type": "markdown",
      "metadata": {
        "id": "iI3U-nYEjtdy",
        "colab_type": "text"
      },
      "source": [
        "### Задание 1. Загрузите данные. Преобразуйте текстовые файлы во внутренние структуры данных, которые используют индексы вместо слов."
      ]
    },
    {
      "cell_type": "code",
      "metadata": {
        "id": "I30y3Eo8eqLF",
        "colab_type": "code",
        "colab": {}
      },
      "source": [
        "MAX_WORDS = 20000\n",
        "MAX_PADDING_LEN = 1000\n",
        "\n",
        "tokenizer = tf.keras.preprocessing.text.Tokenizer(num_words=MAX_WORDS, char_level=False)\n",
        "\n",
        "def encode(text, review_dir):\n",
        "    text = text.lower()\n",
        "    text = re.sub(r'<.*>', '', text)\n",
        "    text = text.strip('!\"#$%&()*+,-./:;<=>?@[\\]^_`{|}~\\t\\n')\n",
        "    return [text, int(review_dir == 'pos')]\n",
        "\n",
        "\n",
        "def load_data_from(folder):\n",
        "    data_sets = []\n",
        "    folder_dir = pathlib.Path(f'/content/datasets/aclImdb/{folder}')\n",
        "\n",
        "    for review_dir in ['neg', 'pos']:\n",
        "        for path in folder_dir.glob(f'{review_dir}/*'):\n",
        "            with path.open('r') as f:\n",
        "                data_sets.append(encode(f.read(), review_dir))\n",
        "    \n",
        "    return np.array(data_sets)\n",
        "\n",
        "def tokenize_texts(data):\n",
        "    tokenizer.fit_on_texts(data)\n",
        "    return np.array(tokenizer.texts_to_sequences(data))\n",
        "\n",
        "def encode_files_from(folder, get_separately=False, tokenize_texts_func=tokenize_texts):\n",
        "    with tf.device('/device:GPU:0'):\n",
        "        text_data = load_data_from(folder)\n",
        "        data = tokenize_texts_func(text_data[:, 0])\n",
        "        data_with_padding = tf.keras.preprocessing.sequence.pad_sequences(\n",
        "            data, dtype='int64', padding='post', truncating='post', maxlen=MAX_PADDING_LEN,\n",
        "            value=0\n",
        "        )\n",
        "        if get_separately:\n",
        "            return data_with_padding, text_data[:, 1]\n",
        "\n",
        "        return np.array(list(zip(data_with_padding, text_data[:, 1])))\n"
      ],
      "execution_count": 0,
      "outputs": []
    },
    {
      "cell_type": "code",
      "metadata": {
        "id": "gtML4lpBtdKL",
        "colab_type": "code",
        "colab": {}
      },
      "source": [
        "# def store_data(data, filename):\n",
        "#     pathlib.Path(f'{DRIVE_DIR}{filename}').mkdir(parents=True, exist_ok=True)\n",
        "#     np.savez_compressed(f'{DRIVE_DIR}{filename}', data=data)\n",
        "\n",
        "# def load_np_data(filename):\n",
        "#     return np.load(f'{DRIVE_DIR}{filename}.npz', allow_pickle=True)['data']"
      ],
      "execution_count": 0,
      "outputs": []
    },
    {
      "cell_type": "code",
      "metadata": {
        "id": "WExXKYo58Ax5",
        "colab_type": "code",
        "colab": {}
      },
      "source": [
        "BATCH_SIZE = 64\n",
        "\n",
        "def make_dataset_from_data(x, y=None):\n",
        "    if y is None:\n",
        "        y = x[:, 1]\n",
        "        x = x[:, 0]\n",
        "    el_count = x.shape[0]\n",
        "    return tf.data.Dataset.from_tensor_slices(\n",
        "        (np.stack(x, axis=0), y.astype(int))\n",
        "    ).shuffle(el_count).batch(BATCH_SIZE)"
      ],
      "execution_count": 0,
      "outputs": []
    },
    {
      "cell_type": "code",
      "metadata": {
        "colab_type": "code",
        "id": "R_krx1TDi2xR",
        "colab": {}
      },
      "source": [
        "train_data = encode_files_from('train')\n",
        "train_dataset = make_dataset_from_data(train_data)"
      ],
      "execution_count": 0,
      "outputs": []
    },
    {
      "cell_type": "code",
      "metadata": {
        "id": "0ezynu8nv1ty",
        "colab_type": "code",
        "outputId": "7814c169-bcc0-45b6-d52d-023f7598a3d6",
        "colab": {
          "base_uri": "https://localhost:8080/",
          "height": 34
        }
      },
      "source": [
        "next(iter(train_dataset))[0].shape"
      ],
      "execution_count": 15,
      "outputs": [
        {
          "output_type": "execute_result",
          "data": {
            "text/plain": [
              "TensorShape([64, 1000])"
            ]
          },
          "metadata": {
            "tags": []
          },
          "execution_count": 15
        }
      ]
    },
    {
      "cell_type": "code",
      "metadata": {
        "id": "58lZUWtUuy-e",
        "colab_type": "code",
        "outputId": "7f7d3f05-222b-4bc4-f9cd-7d8339a3e36d",
        "colab": {
          "base_uri": "https://localhost:8080/",
          "height": 34
        }
      },
      "source": [
        "train_data[:, 0].shape"
      ],
      "execution_count": 16,
      "outputs": [
        {
          "output_type": "execute_result",
          "data": {
            "text/plain": [
              "(25000,)"
            ]
          },
          "metadata": {
            "tags": []
          },
          "execution_count": 16
        }
      ]
    },
    {
      "cell_type": "code",
      "metadata": {
        "id": "xzD5hhJn2kGs",
        "colab_type": "code",
        "colab": {}
      },
      "source": [
        "test_full_data = encode_files_from('test')"
      ],
      "execution_count": 0,
      "outputs": []
    },
    {
      "cell_type": "code",
      "metadata": {
        "id": "TeWL6gY3wd1Q",
        "colab_type": "code",
        "outputId": "10b217a0-41ab-48aa-a05e-9436cdb92766",
        "colab": {
          "base_uri": "https://localhost:8080/",
          "height": 34
        }
      },
      "source": [
        "len(max(test_full_data[0], key=len))"
      ],
      "execution_count": 18,
      "outputs": [
        {
          "output_type": "execute_result",
          "data": {
            "text/plain": [
              "1000"
            ]
          },
          "metadata": {
            "tags": []
          },
          "execution_count": 18
        }
      ]
    },
    {
      "cell_type": "code",
      "metadata": {
        "id": "VUDBii_j8VrL",
        "colab_type": "code",
        "colab": {}
      },
      "source": [
        "validation_data, test_data = train_test_split(test_full_data, test_size=0.5, random_state=42)"
      ],
      "execution_count": 0,
      "outputs": []
    },
    {
      "cell_type": "code",
      "metadata": {
        "id": "EW02-_YV-lir",
        "colab_type": "code",
        "colab": {}
      },
      "source": [
        "validation_dataset = make_dataset_from_data(validation_data)\n",
        "test_dataset = make_dataset_from_data(test_data)"
      ],
      "execution_count": 0,
      "outputs": []
    },
    {
      "cell_type": "markdown",
      "metadata": {
        "id": "ycaLtdSajtd3",
        "colab_type": "text"
      },
      "source": [
        "### Задание 2.Реализуйте и обучите двунаправленную рекуррентную сеть (LSTM или GRU). Какого качества классификации удалось достичь?\n"
      ]
    },
    {
      "cell_type": "code",
      "metadata": {
        "id": "QXWgd20GDsyw",
        "colab_type": "code",
        "colab": {}
      },
      "source": [
        "# regularizer = tf.keras.regularizers.l2(0.01)\n",
        "\n",
        "layers = [\n",
        "    tf.keras.layers.Embedding(MAX_WORDS, 100, input_length=MAX_PADDING_LEN),\n",
        "    tf.keras.layers.Bidirectional(tf.keras.layers.LSTM(64)),\n",
        "    # tf.keras.layers.Dense(32, activation='relu'),\n",
        "    # tf.keras.layers.Dropout(0.2),\n",
        "    tf.keras.layers.Dense(1)\n",
        "]"
      ],
      "execution_count": 0,
      "outputs": []
    },
    {
      "cell_type": "code",
      "metadata": {
        "id": "wfGZGEur7_id",
        "colab_type": "code",
        "outputId": "10898304-14a2-4ec0-da15-a7f20240aad8",
        "colab": {
          "base_uri": "https://localhost:8080/",
          "height": 306
        }
      },
      "source": [
        "optimizer = tf.keras.optimizers.SGD(learning_rate=0.1, momentum=0.9)\n",
        "\n",
        "model = Model(layers=layers, optimizer='adam', loss='binary_crossentropy')"
      ],
      "execution_count": 0,
      "outputs": [
        {
          "output_type": "stream",
          "text": [
            "----------------------------------------------------------------------------------------\n",
            "Model: \"sequential_48\"\n",
            "_________________________________________________________________\n",
            "Layer (type)                 Output Shape              Param #   \n",
            "=================================================================\n",
            "embedding_34 (Embedding)     (None, 1000, 100)         2000000   \n",
            "_________________________________________________________________\n",
            "bidirectional_34 (Bidirectio (None, 128)               84480     \n",
            "_________________________________________________________________\n",
            "dense_44 (Dense)             (None, 1)                 129       \n",
            "=================================================================\n",
            "Total params: 2,084,609\n",
            "Trainable params: 2,084,609\n",
            "Non-trainable params: 0\n",
            "_________________________________________________________________\n",
            "None\n",
            "----------------------------------------------------------------------------------------\n"
          ],
          "name": "stdout"
        }
      ]
    },
    {
      "cell_type": "code",
      "metadata": {
        "id": "5-V2fXox8l9d",
        "colab_type": "code",
        "cellView": "code",
        "outputId": "c7c105c5-0cdf-4da1-ec59-15d36b158a91",
        "colab": {
          "base_uri": "https://localhost:8080/",
          "height": 729
        }
      },
      "source": [
        "with tf.device('/device:GPU:0'):\n",
        "    # history = model.train(iter(train_dataset), batch_count=3, epochs=10)\n",
        "    history = model.train(train_dataset, epochs=5, validation_data=validation_dataset)\n",
        "    # model.save(filedir=DRIVE_DIR, filename='model')"
      ],
      "execution_count": 0,
      "outputs": [
        {
          "output_type": "stream",
          "text": [
            "----------------------------------------------------------------------------------------\n",
            "Started at 2020-04-17 14:57:32.430158\n",
            "----------------------------------------------------------------------------------------\n",
            "Train on full data\n",
            "----------------------------------------------------------------------------------------\n",
            "Epoch 1/5\n",
            "391/391 [==============================] - 41s 106ms/step - loss: 1.2972 - accuracy: 0.6439 - val_loss: 0.4887 - val_accuracy: 0.7893\n",
            "Epoch 2/5\n",
            "391/391 [==============================] - 41s 104ms/step - loss: 0.4703 - accuracy: 0.8086 - val_loss: 0.3531 - val_accuracy: 0.8777\n",
            "Epoch 3/5\n",
            "391/391 [==============================] - 41s 105ms/step - loss: 0.3502 - accuracy: 0.8816 - val_loss: 0.2157 - val_accuracy: 0.9368\n",
            "Epoch 4/5\n",
            "391/391 [==============================] - 41s 104ms/step - loss: 0.3559 - accuracy: 0.8687 - val_loss: 0.1872 - val_accuracy: 0.9487\n",
            "Epoch 5/5\n",
            "391/391 [==============================] - 41s 104ms/step - loss: 0.2666 - accuracy: 0.9106 - val_loss: 0.1795 - val_accuracy: 0.9550\n",
            "----------------------------------------------------------------------------------------\n"
          ],
          "name": "stdout"
        },
        {
          "output_type": "display_data",
          "data": {
            "image/png": "[encoded data removed]",
            "text/plain": [
              "<Figure size 1080x360 with 2 Axes>"
            ]
          },
          "metadata": {
            "tags": [],
            "needs_background": "light"
          }
        },
        {
          "output_type": "stream",
          "text": [
            "----------------------------------------------------------------------------------------\n",
            "Spent time: 0:03:27.929886\n",
            "Average loss error: 0.5480696737766266\n",
            "Average train error: 0.8226880073547364\n",
            "Average validation loss error: 0.28484503626823426\n",
            "Average validation error: 0.9014879941940308\n",
            "----------------------------------------------------------------------------------------\n"
          ],
          "name": "stdout"
        }
      ]
    },
    {
      "cell_type": "code",
      "metadata": {
        "id": "rapndhpwLr0U",
        "colab_type": "code",
        "outputId": "a2548cc1-b3e9-47e2-c751-ae7e76ae573e",
        "colab": {
          "base_uri": "https://localhost:8080/",
          "height": 34
        }
      },
      "source": [
        "history = model.test(test_dataset)"
      ],
      "execution_count": 0,
      "outputs": [
        {
          "output_type": "stream",
          "text": [
            "196/196 [==============================] - 6s 30ms/step - loss: 0.1808 - accuracy: 0.9526\n"
          ],
          "name": "stdout"
        }
      ]
    },
    {
      "cell_type": "markdown",
      "metadata": {
        "id": "2uTKfIX_jtd7",
        "colab_type": "text"
      },
      "source": [
        "### Задание 3. Используйте индексы слов и их различное внутреннее представление (word2vec, glove). Как влияет данное преобразование на качество классификации? "
      ]
    },
    {
      "cell_type": "markdown",
      "metadata": {
        "id": "2zhUWSeHoXul",
        "colab_type": "text"
      },
      "source": [
        "https://nlp.stanford.edu/projects/glove/"
      ]
    },
    {
      "cell_type": "code",
      "metadata": {
        "id": "jWYIuCGVjtd8",
        "colab_type": "code",
        "colab": {}
      },
      "source": [
        "def load_glove_vectors():\n",
        "    vectors_dict = {}\n",
        "    with open(f'{DRIVE_DIR}/glove.6B.100d.txt', 'r') as f:\n",
        "        for line in f.read().split('\\n'):\n",
        "            line_array = line.split(' ')\n",
        "            vectors_dict[line_array[0]] = np.array(line_array[1:], dtype='float32')\n",
        "    \n",
        "    return vectors_dict\n",
        "\n",
        "glove_vectors_dict = load_glove_vectors()"
      ],
      "execution_count": 0,
      "outputs": []
    },
    {
      "cell_type": "code",
      "metadata": {
        "id": "Sizd70UIX0l3",
        "colab_type": "code",
        "outputId": "78f97107-63d7-4461-cb5d-55b431762efb",
        "colab": {
          "base_uri": "https://localhost:8080/",
          "height": 34
        }
      },
      "source": [
        "GLOVE_EMBEDDING_DIM = len(next(iter(glove_vectors_dict.values())))\n",
        "GLOVE_EMBEDDING_DIM"
      ],
      "execution_count": 106,
      "outputs": [
        {
          "output_type": "execute_result",
          "data": {
            "text/plain": [
              "100"
            ]
          },
          "metadata": {
            "tags": []
          },
          "execution_count": 106
        }
      ]
    },
    {
      "cell_type": "code",
      "metadata": {
        "id": "xYaXgo6dYJya",
        "colab_type": "code",
        "outputId": "b762a407-7338-4932-ae35-b287c5c58ce4",
        "colab": {
          "base_uri": "https://localhost:8080/",
          "height": 34
        }
      },
      "source": [
        "def tokenize_words(dictionary, new_embedding_dim):\n",
        "    embedding_matrix = np.zeros((MAX_WORDS, new_embedding_dim))\n",
        "    for word, index in tokenizer.word_index.items():\n",
        "        if index < MAX_WORDS:\n",
        "            vector = dictionary.get(word)\n",
        "            if vector is not None:\n",
        "                embedding_matrix[index][:] = vector[:]\n",
        "    return embedding_matrix\n",
        "\n",
        "embedding_matrix = tokenize_words(glove_vectors_dict, GLOVE_EMBEDDING_DIM)\n",
        "embedding_matrix.shape"
      ],
      "execution_count": 128,
      "outputs": [
        {
          "output_type": "execute_result",
          "data": {
            "text/plain": [
              "(20000, 100)"
            ]
          },
          "metadata": {
            "tags": []
          },
          "execution_count": 128
        }
      ]
    },
    {
      "cell_type": "code",
      "metadata": {
        "id": "kxD4eWSObpbv",
        "colab_type": "code",
        "colab": {}
      },
      "source": [
        "# regularizer = tf.keras.regularizers.l2(0.01)\n",
        "\n",
        "layers = [\n",
        "    tf.keras.layers.Embedding(MAX_WORDS, GLOVE_EMBEDDING_DIM, input_length=MAX_PADDING_LEN),\n",
        "    tf.keras.layers.Bidirectional(tf.keras.layers.LSTM(64)),\n",
        "    # tf.keras.layers.Dense(32, activation='relu'),\n",
        "    # tf.keras.layers.Dropout(0.2),\n",
        "    tf.keras.layers.Dense(1)\n",
        "]"
      ],
      "execution_count": 0,
      "outputs": []
    },
    {
      "cell_type": "code",
      "metadata": {
        "id": "SBmMwgecrmx9",
        "colab_type": "code",
        "colab": {}
      },
      "source": [
        "def train_model_with_glove_embedding(layers):\n",
        "    model = Model(layers=layers, optimizer='adam', loss='binary_crossentropy')\n",
        "    model.model.layers[0].set_weights([embedding_matrix])\n",
        "    model.model.layers[0].trainable = False\n",
        "\n",
        "    with tf.device('/device:GPU:0'):\n",
        "        # history = model.train(iter(train_dataset), batch_count=3, epochs=10)\n",
        "        history = model.train(train_dataset, epochs=5, validation_data=validation_dataset)\n",
        "        # model.save(filedir=DRIVE_DIR, filename='model')\n",
        "    return model"
      ],
      "execution_count": 0,
      "outputs": []
    },
    {
      "cell_type": "code",
      "metadata": {
        "id": "cxt1KsDmbw7m",
        "colab_type": "code",
        "outputId": "9d29cc63-93bf-433f-a0fb-2da11acbccf6",
        "colab": {
          "base_uri": "https://localhost:8080/",
          "height": 1000
        }
      },
      "source": [
        "model = train_model_with_glove_embedding(layers)"
      ],
      "execution_count": 0,
      "outputs": [
        {
          "output_type": "stream",
          "text": [
            "----------------------------------------------------------------------------------------\n",
            "Model: \"sequential_58\"\n",
            "_________________________________________________________________\n",
            "Layer (type)                 Output Shape              Param #   \n",
            "=================================================================\n",
            "embedding_41 (Embedding)     (None, 1000, 100)         2000000   \n",
            "_________________________________________________________________\n",
            "bidirectional_41 (Bidirectio (None, 128)               84480     \n",
            "_________________________________________________________________\n",
            "dense_52 (Dense)             (None, 1)                 129       \n",
            "=================================================================\n",
            "Total params: 2,084,609\n",
            "Trainable params: 2,084,609\n",
            "Non-trainable params: 0\n",
            "_________________________________________________________________\n",
            "None\n",
            "----------------------------------------------------------------------------------------\n",
            "----------------------------------------------------------------------------------------\n",
            "Started at 2020-04-17 15:19:53.384899\n",
            "----------------------------------------------------------------------------------------\n",
            "Train on full data\n",
            "----------------------------------------------------------------------------------------\n",
            "Epoch 1/5\n",
            "391/391 [==============================] - 43s 110ms/step - loss: 0.5859 - accuracy: 0.7006 - val_loss: 0.3859 - val_accuracy: 0.8434\n",
            "Epoch 2/5\n",
            "391/391 [==============================] - 42s 109ms/step - loss: 0.4736 - accuracy: 0.8102 - val_loss: 0.3085 - val_accuracy: 0.8898\n",
            "Epoch 3/5\n",
            "391/391 [==============================] - 43s 109ms/step - loss: 0.3087 - accuracy: 0.8924 - val_loss: 0.2492 - val_accuracy: 0.9284\n",
            "Epoch 4/5\n",
            "391/391 [==============================] - 43s 109ms/step - loss: 0.2410 - accuracy: 0.9248 - val_loss: 0.1746 - val_accuracy: 0.9516\n",
            "Epoch 5/5\n",
            "391/391 [==============================] - 43s 110ms/step - loss: 0.2066 - accuracy: 0.9443 - val_loss: 0.1438 - val_accuracy: 0.9686\n",
            "----------------------------------------------------------------------------------------\n"
          ],
          "name": "stdout"
        },
        {
          "output_type": "display_data",
          "data": {
            "image/png": "[encoded data removed]",
            "text/plain": [
              "<Figure size 1080x360 with 2 Axes>"
            ]
          },
          "metadata": {
            "tags": [],
            "needs_background": "light"
          }
        },
        {
          "output_type": "stream",
          "text": [
            "----------------------------------------------------------------------------------------\n",
            "Spent time: 0:03:37.609783\n",
            "Average loss error: 0.36316765248775484\n",
            "Average train error: 0.8544800043106079\n",
            "Average validation loss error: 0.2524115025997162\n",
            "Average validation error: 0.9163840055465698\n",
            "----------------------------------------------------------------------------------------\n"
          ],
          "name": "stdout"
        }
      ]
    },
    {
      "cell_type": "code",
      "metadata": {
        "id": "hzluA29wkfqu",
        "colab_type": "code",
        "outputId": "71da9557-1be3-4a82-b13f-c9b2fca057ab",
        "colab": {
          "base_uri": "https://localhost:8080/",
          "height": 51
        }
      },
      "source": [
        "model.test(test_dataset)"
      ],
      "execution_count": 0,
      "outputs": [
        {
          "output_type": "stream",
          "text": [
            "196/196 [==============================] - 6s 33ms/step - loss: 0.1404 - accuracy: 0.9679\n"
          ],
          "name": "stdout"
        },
        {
          "output_type": "execute_result",
          "data": {
            "text/plain": [
              "[0.1404118537902832, 0.9679200053215027]"
            ]
          },
          "metadata": {
            "tags": []
          },
          "execution_count": 352
        }
      ]
    },
    {
      "cell_type": "markdown",
      "metadata": {
        "id": "2JouMrk8iwZq",
        "colab_type": "text"
      },
      "source": [
        ""
      ]
    },
    {
      "cell_type": "markdown",
      "metadata": {
        "id": "xBtA8Vygjtd_",
        "colab_type": "text"
      },
      "source": [
        "### Задание 4. Поэкспериментируйте со структурой сети (добавьте больше рекуррентных, полносвязных или сверточных слоев). Как это повлияло на качество классификации?\n"
      ]
    },
    {
      "cell_type": "code",
      "metadata": {
        "id": "8Aa0o8LaMtOf",
        "colab_type": "code",
        "colab": {}
      },
      "source": [
        "\n",
        "layers = [\n",
        "    tf.keras.layers.Embedding(MAX_WORDS, GLOVE_EMBEDDING_DIM, input_length=MAX_PADDING_LEN),\n",
        "    tf.keras.layers.Bidirectional(tf.keras.layers.LSTM(64)),\n",
        "    tf.keras.layers.Dense(256, activation='relu'),\n",
        "    tf.keras.layers.Dense(128, activation='relu'),\n",
        "    # tf.keras.layers.Dropout(0.2),\n",
        "    tf.keras.layers.Dense(1)\n",
        "]"
      ],
      "execution_count": 0,
      "outputs": []
    },
    {
      "cell_type": "code",
      "metadata": {
        "id": "LmvyZHkIh9_G",
        "colab_type": "code",
        "outputId": "8dcce2ae-de0e-49ce-ace4-269d9c4638f0",
        "colab": {
          "base_uri": "https://localhost:8080/",
          "height": 1000
        }
      },
      "source": [
        "model = train_model_with_glove_embedding(layers)"
      ],
      "execution_count": 0,
      "outputs": [
        {
          "output_type": "stream",
          "text": [
            "----------------------------------------------------------------------------------------\n",
            "Model: \"sequential_60\"\n",
            "_________________________________________________________________\n",
            "Layer (type)                 Output Shape              Param #   \n",
            "=================================================================\n",
            "embedding_43 (Embedding)     (None, 1000, 100)         2000000   \n",
            "_________________________________________________________________\n",
            "bidirectional_43 (Bidirectio (None, 128)               84480     \n",
            "_________________________________________________________________\n",
            "dense_56 (Dense)             (None, 256)               33024     \n",
            "_________________________________________________________________\n",
            "dense_57 (Dense)             (None, 128)               32896     \n",
            "_________________________________________________________________\n",
            "dense_58 (Dense)             (None, 1)                 129       \n",
            "=================================================================\n",
            "Total params: 2,150,529\n",
            "Trainable params: 2,150,529\n",
            "Non-trainable params: 0\n",
            "_________________________________________________________________\n",
            "None\n",
            "----------------------------------------------------------------------------------------\n",
            "----------------------------------------------------------------------------------------\n",
            "Started at 2020-04-17 15:46:54.886679\n",
            "----------------------------------------------------------------------------------------\n",
            "Train on full data\n",
            "----------------------------------------------------------------------------------------\n",
            "Epoch 1/5\n",
            "391/391 [==============================] - 43s 111ms/step - loss: 0.5874 - accuracy: 0.7027 - val_loss: 0.4032 - val_accuracy: 0.8333\n",
            "Epoch 2/5\n",
            "391/391 [==============================] - 43s 109ms/step - loss: 0.4494 - accuracy: 0.8246 - val_loss: 0.4636 - val_accuracy: 0.8066\n",
            "Epoch 3/5\n",
            "391/391 [==============================] - 43s 109ms/step - loss: 0.7232 - accuracy: 0.7951 - val_loss: 0.3019 - val_accuracy: 0.9061\n",
            "Epoch 4/5\n",
            "391/391 [==============================] - 43s 110ms/step - loss: 0.3470 - accuracy: 0.8905 - val_loss: 0.2285 - val_accuracy: 0.9361\n",
            "Epoch 5/5\n",
            "391/391 [==============================] - 43s 110ms/step - loss: 0.2538 - accuracy: 0.9307 - val_loss: 0.1842 - val_accuracy: 0.9581\n",
            "----------------------------------------------------------------------------------------\n"
          ],
          "name": "stdout"
        },
        {
          "output_type": "display_data",
          "data": {
            "image/png": "[encoded data removed]",
            "text/plain": [
              "<Figure size 1080x360 with 2 Axes>"
            ]
          },
          "metadata": {
            "tags": [],
            "needs_background": "light"
          }
        },
        {
          "output_type": "stream",
          "text": [
            "----------------------------------------------------------------------------------------\n",
            "Spent time: 0:03:38.417097\n",
            "Average loss error: 0.4721546769142151\n",
            "Average train error: 0.828711986541748\n",
            "Average validation loss error: 0.31627972722053527\n",
            "Average validation error: 0.8880320072174073\n",
            "----------------------------------------------------------------------------------------\n"
          ],
          "name": "stdout"
        }
      ]
    },
    {
      "cell_type": "code",
      "metadata": {
        "id": "PVIw3_-vs7So",
        "colab_type": "code",
        "outputId": "afa9c3f1-6a26-4407-f932-7ac0c1676981",
        "colab": {
          "base_uri": "https://localhost:8080/",
          "height": 51
        }
      },
      "source": [
        "model.test(test_dataset)"
      ],
      "execution_count": 0,
      "outputs": [
        {
          "output_type": "stream",
          "text": [
            "196/196 [==============================] - 6s 33ms/step - loss: 0.2071 - accuracy: 0.9554\n"
          ],
          "name": "stdout"
        },
        {
          "output_type": "execute_result",
          "data": {
            "text/plain": [
              "[0.2071375697851181, 0.9553599953651428]"
            ]
          },
          "metadata": {
            "tags": []
          },
          "execution_count": 358
        }
      ]
    },
    {
      "cell_type": "markdown",
      "metadata": {
        "id": "r7XzDxRZiur0",
        "colab_type": "text"
      },
      "source": [
        ""
      ]
    },
    {
      "cell_type": "markdown",
      "metadata": {
        "id": "0N-BthBjMv1O",
        "colab_type": "text"
      },
      "source": [
        "### Задание 5. Используйте предобученную рекуррентную нейронную сеть (например, DeepMoji или что-то подобное).\n"
      ]
    },
    {
      "cell_type": "code",
      "metadata": {
        "id": "RA6_-MtKAsZ-",
        "colab_type": "code",
        "outputId": "ebe28ba9-e8f9-4620-c18d-e4de182aea60",
        "colab": {
          "base_uri": "https://localhost:8080/",
          "height": 119
        }
      },
      "source": [
        "!git clone https://github.com/bfelbo/DeepMoji.git\n",
        "# !pip install tensorflow==1.14\n",
        "import os \n",
        "os.chdir('/content/DeepMoji/deepmoji')"
      ],
      "execution_count": 21,
      "outputs": [
        {
          "output_type": "stream",
          "text": [
            "Cloning into 'DeepMoji'...\n",
            "remote: Enumerating objects: 281, done.\u001b[K\n",
            "remote: Total 281 (delta 0), reused 0 (delta 0), pack-reused 281\u001b[K\n",
            "Receiving objects: 100% (281/281), 110.54 MiB | 40.50 MiB/s, done.\n",
            "Resolving deltas: 100% (142/142), done.\n",
            "Checking out files: 100% (66/66), done.\n"
          ],
          "name": "stdout"
        }
      ]
    },
    {
      "cell_type": "code",
      "metadata": {
        "id": "AGIIGGljBYjK",
        "colab_type": "code",
        "colab": {}
      },
      "source": [
        "from __future__ import print_function, division\n",
        "# import example_helper\n",
        "import json\n",
        "import csv\n",
        "import numpy as np\n",
        "# from deepmoji.sentence_tokenizer import SentenceTokenizer\n",
        "from deepmoji.model_def import deepmoji_transfer\n",
        "\n",
        "# from model_def import deepmoji_emojis\n",
        "# from deepmoji.global_variables import PRETRAINED_PATH\n",
        "from deepmoji.global_variables import PRETRAINED_PATH, VOCAB_PATH, NB_TOKENS\n",
        "# from deepmoji.sentence_tokenizer import SentenceTokenizer"
      ],
      "execution_count": 0,
      "outputs": []
    },
    {
      "cell_type": "code",
      "metadata": {
        "id": "ksVfMEfG0pgr",
        "colab_type": "code",
        "colab": {}
      },
      "source": [
        "with open(VOCAB_PATH, 'r') as f:\n",
        "    deepmoji_vocab = json.load(f)"
      ],
      "execution_count": 0,
      "outputs": []
    },
    {
      "cell_type": "code",
      "metadata": {
        "id": "5YAPz4szoPR9",
        "colab_type": "code",
        "colab": {}
      },
      "source": [
        "def convert_dataset(data, old_dict, new_dict):\n",
        "    inverst_dict = {v: k for k, v in old_dict.items()}\n",
        "    new_data = np.zeros(data.shape)\n",
        "    for i, seq in enumerate(data):\n",
        "        new_data[i, :] = np.array(list(map(lambda x: new_dict.get(inverst_dict.get(x), 0), seq)))\n",
        "\n",
        "    return new_data"
      ],
      "execution_count": 0,
      "outputs": []
    },
    {
      "cell_type": "code",
      "metadata": {
        "id": "yUuGkLGAwz7X",
        "colab_type": "code",
        "colab": {}
      },
      "source": [
        "train_data_x, train_data_y = encode_files_from('train', True)"
      ],
      "execution_count": 0,
      "outputs": []
    },
    {
      "cell_type": "code",
      "metadata": {
        "id": "yX7xwS6LsTMc",
        "colab_type": "code",
        "colab": {}
      },
      "source": [
        "deepmoji_train_data_x = convert_dataset(train_data_x, tokenizer.word_index, deepmoji_vocab)"
      ],
      "execution_count": 0,
      "outputs": []
    },
    {
      "cell_type": "code",
      "metadata": {
        "id": "u5JP2NNKxT-l",
        "colab_type": "code",
        "colab": {}
      },
      "source": [
        "test_full_data_x, test_full_data_y = encode_files_from('test', True)"
      ],
      "execution_count": 0,
      "outputs": []
    },
    {
      "cell_type": "code",
      "metadata": {
        "id": "rFhXISVks2oi",
        "colab_type": "code",
        "colab": {}
      },
      "source": [
        "deepmoji_test_full_data_x = convert_dataset(test_full_data_x, tokenizer.word_index, deepmoji_vocab)"
      ],
      "execution_count": 0,
      "outputs": []
    },
    {
      "cell_type": "code",
      "metadata": {
        "id": "zplmdRLIxbvM",
        "colab_type": "code",
        "colab": {}
      },
      "source": [
        "deepmoji_validation_data_x, deepmoji_test_data_x, validation_data_y, test_data_y = train_test_split(deepmoji_test_full_data_x, test_full_data_y, test_size=0.7, random_state=42)"
      ],
      "execution_count": 0,
      "outputs": []
    },
    {
      "cell_type": "code",
      "metadata": {
        "id": "5YVM5pokGL7D",
        "colab_type": "code",
        "outputId": "b40b945b-43d0-40a3-fd8b-bf0ad7e25187",
        "colab": {
          "base_uri": "https://localhost:8080/",
          "height": 612
        }
      },
      "source": [
        "# deepmoji_base = deepmoji_emojis(nb_classes=2, maxlen=MAX_PADDING_LEN, weight_path=f'{DRIVE_DIR}deepmoji_weights.hdf5')\n",
        "deepmoji_base = deepmoji_transfer(nb_classes=2,\n",
        "                                  maxlen=MAX_PADDING_LEN,\n",
        "                                  weight_path=f'{DRIVE_DIR}deepmoji_weights.hdf5')#,\n",
        "                                #   embed_dropout_rate=0.25,\n",
        "                                #   final_dropout_rate=0.5,\n",
        "                                #   embed_l2=0)\n",
        "\n",
        "# pdb.set_trace()\n",
        "deepmoji_base.layers.pop()\n",
        "for layer in deepmoji_base.layers[1:]:\n",
        "    layer.trainable = False\n",
        "\n",
        "x = deepmoji_base.layers[-1].output\n",
        "x = keras.layers.Dense(1, activation='sigmoid')(x)\n",
        "\n",
        "model = keras.Model(deepmoji_base.input, outputs=x)\n",
        "\n",
        "\n",
        "optimizer = tf.keras.optimizers.SGD(learning_rate=0.01)\n",
        "model.compile(loss='binary_crossentropy', optimizer='adam', metrics=['accuracy'])\n",
        "model.summary()"
      ],
      "execution_count": 168,
      "outputs": [
        {
          "output_type": "stream",
          "text": [
            "Loading weights for embedding\n",
            "Loading weights for bi_lstm_0\n",
            "Loading weights for bi_lstm_1\n",
            "Loading weights for attlayer\n",
            "Ignoring weights for softmax\n",
            "Model: \"model_22\"\n",
            "__________________________________________________________________________________________________\n",
            "Layer (type)                    Output Shape         Param #     Connected to                     \n",
            "==================================================================================================\n",
            "input_46 (InputLayer)           (None, 1000)         0                                            \n",
            "__________________________________________________________________________________________________\n",
            "embedding (Embedding)           (None, 1000, 256)    12800000    input_46[0][0]                   \n",
            "__________________________________________________________________________________________________\n",
            "activation_46 (Activation)      (None, 1000, 256)    0           embedding[0][0]                  \n",
            "__________________________________________________________________________________________________\n",
            "embed_drop (SpatialDropout1D)   (None, 1000, 256)    0           activation_46[0][0]              \n",
            "__________________________________________________________________________________________________\n",
            "bi_lstm_0 (Bidirectional)       (None, 1000, 1024)   3149824     embed_drop[0][0]                 \n",
            "__________________________________________________________________________________________________\n",
            "bi_lstm_1 (Bidirectional)       (None, 1000, 1024)   6295552     bi_lstm_0[0][0]                  \n",
            "__________________________________________________________________________________________________\n",
            "concatenate_46 (Concatenate)    (None, 1000, 2304)   0           bi_lstm_1[0][0]                  \n",
            "                                                                 bi_lstm_0[0][0]                  \n",
            "                                                                 embed_drop[0][0]                 \n",
            "__________________________________________________________________________________________________\n",
            "attlayer (AttentionWeightedAver (None, 2304)         2304        concatenate_46[0][0]             \n",
            "__________________________________________________________________________________________________\n",
            "dropout_42 (Dropout)            (None, 2304)         0           attlayer[0][0]                   \n",
            "__________________________________________________________________________________________________\n",
            "dense_40 (Dense)                (None, 1)            2305        dropout_42[0][0]                 \n",
            "==================================================================================================\n",
            "Total params: 22,249,985\n",
            "Trainable params: 2,305\n",
            "Non-trainable params: 22,247,680\n",
            "__________________________________________________________________________________________________\n"
          ],
          "name": "stdout"
        }
      ]
    },
    {
      "cell_type": "code",
      "metadata": {
        "id": "SMxppHAIezlt",
        "colab_type": "code",
        "outputId": "9b092a74-c6a7-4220-b185-cc0b3b2fbe1c",
        "colab": {
          "base_uri": "https://localhost:8080/",
          "height": 544
        }
      },
      "source": [
        "with tf.device('/device:GPU:0'):\n",
        "    # history = model.train(iter(train_dataset), steps_per_epoch=64, batch_count=1, epochs=1)\n",
        "    # history = model.train(iter(train_dataset), steps_per_epoch=64 , epochs=5, validation_data=validation_dataset)\n",
        "    history = model.fit(deepmoji_train_data_x, train_data_y, batch_size=64, epochs=15, validation_data=(deepmoji_validation_data_x, validation_data_y))"
      ],
      "execution_count": 169,
      "outputs": [
        {
          "output_type": "stream",
          "text": [
            "Train on 25000 samples, validate on 7500 samples\n",
            "Epoch 1/15\n",
            "25000/25000 [==============================] - 607s 24ms/step - loss: 0.5752 - accuracy: 0.7684 - val_loss: 0.4878 - val_accuracy: 0.8015\n",
            "Epoch 2/15\n",
            "25000/25000 [==============================] - 600s 24ms/step - loss: 0.4928 - accuracy: 0.7832 - val_loss: 0.4540 - val_accuracy: 0.8048\n",
            "Epoch 3/15\n",
            "25000/25000 [==============================] - 599s 24ms/step - loss: 0.4760 - accuracy: 0.7906 - val_loss: 0.4437 - val_accuracy: 0.8061\n",
            "Epoch 4/15\n",
            "25000/25000 [==============================] - 598s 24ms/step - loss: 0.4675 - accuracy: 0.7917 - val_loss: 0.4379 - val_accuracy: 0.8087\n",
            "Epoch 5/15\n",
            "25000/25000 [==============================] - 594s 24ms/step - loss: 0.4586 - accuracy: 0.7940 - val_loss: 0.4336 - val_accuracy: 0.8092\n",
            "Epoch 6/15\n",
            "25000/25000 [==============================] - 602s 24ms/step - loss: 0.4567 - accuracy: 0.7993 - val_loss: 0.4314 - val_accuracy: 0.8125\n",
            "Epoch 7/15\n",
            "25000/25000 [==============================] - 597s 24ms/step - loss: 0.4506 - accuracy: 0.8022 - val_loss: 0.4274 - val_accuracy: 0.8135\n",
            "Epoch 8/15\n",
            "25000/25000 [==============================] - 604s 24ms/step - loss: 0.4495 - accuracy: 0.8037 - val_loss: 0.4260 - val_accuracy: 0.8155\n",
            "Epoch 9/15\n",
            "25000/25000 [==============================] - 601s 24ms/step - loss: 0.4487 - accuracy: 0.8024 - val_loss: 0.4233 - val_accuracy: 0.8163\n",
            "Epoch 10/15\n",
            "25000/25000 [==============================] - 603s 24ms/step - loss: 0.4460 - accuracy: 0.8033 - val_loss: 0.4214 - val_accuracy: 0.8175\n",
            "Epoch 11/15\n",
            "25000/25000 [==============================] - 605s 24ms/step - loss: 0.4463 - accuracy: 0.8054 - val_loss: 0.4200 - val_accuracy: 0.8183\n",
            "Epoch 12/15\n",
            "25000/25000 [==============================] - 601s 24ms/step - loss: 0.4439 - accuracy: 0.8054 - val_loss: 0.4194 - val_accuracy: 0.8189\n",
            "Epoch 13/15\n",
            "25000/25000 [==============================] - 602s 24ms/step - loss: 0.4413 - accuracy: 0.8059 - val_loss: 0.4178 - val_accuracy: 0.8204\n",
            "Epoch 14/15\n",
            "25000/25000 [==============================] - 593s 24ms/step - loss: 0.4389 - accuracy: 0.8108 - val_loss: 0.4169 - val_accuracy: 0.8212\n",
            "Epoch 15/15\n",
            "25000/25000 [==============================] - 580s 23ms/step - loss: 0.4403 - accuracy: 0.8064 - val_loss: 0.4159 - val_accuracy: 0.8219\n"
          ],
          "name": "stdout"
        }
      ]
    },
    {
      "cell_type": "code",
      "metadata": {
        "id": "blp-RuXf0W4G",
        "colab_type": "code",
        "colab": {
          "base_uri": "https://localhost:8080/",
          "height": 916
        },
        "outputId": "8c708b54-b87e-447f-9b84-43f952a86845"
      },
      "source": [
        "loss = np.array([history.history['loss']])\n",
        "tran_accuracy = np.array([history.history['accuracy']])\n",
        "val_loss = np.array([history.history.get('val_loss')])\n",
        "val_accuracy = np.array([history.history.get('val_accuracy')])\n",
        "\n",
        "Model(model=model)._plot_train_accuracy_graphs(loss, tran_accuracy, val_loss, val_accuracy, mode='epochs')"
      ],
      "execution_count": 170,
      "outputs": [
        {
          "output_type": "stream",
          "text": [
            "----------------------------------------------------------------------------------------\n",
            "Model: \"model_22\"\n",
            "__________________________________________________________________________________________________\n",
            "Layer (type)                    Output Shape         Param #     Connected to                     \n",
            "==================================================================================================\n",
            "input_46 (InputLayer)           (None, 1000)         0                                            \n",
            "__________________________________________________________________________________________________\n",
            "embedding (Embedding)           (None, 1000, 256)    12800000    input_46[0][0]                   \n",
            "__________________________________________________________________________________________________\n",
            "activation_46 (Activation)      (None, 1000, 256)    0           embedding[0][0]                  \n",
            "__________________________________________________________________________________________________\n",
            "embed_drop (SpatialDropout1D)   (None, 1000, 256)    0           activation_46[0][0]              \n",
            "__________________________________________________________________________________________________\n",
            "bi_lstm_0 (Bidirectional)       (None, 1000, 1024)   3149824     embed_drop[0][0]                 \n",
            "__________________________________________________________________________________________________\n",
            "bi_lstm_1 (Bidirectional)       (None, 1000, 1024)   6295552     bi_lstm_0[0][0]                  \n",
            "__________________________________________________________________________________________________\n",
            "concatenate_46 (Concatenate)    (None, 1000, 2304)   0           bi_lstm_1[0][0]                  \n",
            "                                                                 bi_lstm_0[0][0]                  \n",
            "                                                                 embed_drop[0][0]                 \n",
            "__________________________________________________________________________________________________\n",
            "attlayer (AttentionWeightedAver (None, 2304)         2304        concatenate_46[0][0]             \n",
            "__________________________________________________________________________________________________\n",
            "dropout_42 (Dropout)            (None, 2304)         0           attlayer[0][0]                   \n",
            "__________________________________________________________________________________________________\n",
            "dense_40 (Dense)                (None, 1)            2305        dropout_42[0][0]                 \n",
            "==================================================================================================\n",
            "Total params: 22,249,985\n",
            "Trainable params: 2,305\n",
            "Non-trainable params: 22,247,680\n",
            "__________________________________________________________________________________________________\n",
            "None\n",
            "----------------------------------------------------------------------------------------\n",
            "----------------------------------------------------------------------------------------\n"
          ],
          "name": "stdout"
        },
        {
          "output_type": "display_data",
          "data": {
            "image/png": "[encoded data removed]",
            "text/plain": [
              "<Figure size 1080x360 with 2 Axes>"
            ]
          },
          "metadata": {
            "tags": [],
            "needs_background": "light"
          }
        }
      ]
    },
    {
      "cell_type": "code",
      "metadata": {
        "id": "QkidtAofAOiI",
        "colab_type": "code",
        "colab": {
          "base_uri": "https://localhost:8080/",
          "height": 51
        },
        "outputId": "529070f4-2f34-4215-8776-71e3565b5267"
      },
      "source": [
        "model.evaluate(deepmoji_test_data_x, test_data_y)"
      ],
      "execution_count": 171,
      "outputs": [
        {
          "output_type": "stream",
          "text": [
            "17500/17500 [==============================] - 609s 35ms/step\n"
          ],
          "name": "stdout"
        },
        {
          "output_type": "execute_result",
          "data": {
            "text/plain": [
              "[0.40507688689231874, 0.8282285928726196]"
            ]
          },
          "metadata": {
            "tags": []
          },
          "execution_count": 171
        }
      ]
    }
  ]
}