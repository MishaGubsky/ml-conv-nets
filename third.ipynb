{
 "cells": [
  {
   "cell_type": "markdown",
   "metadata": {},
   "source": [
    "# Лабораторная работа №3. Реализация сверточной нейронной сети"
   ]
  },
  {
   "cell_type": "markdown",
   "metadata": {},
   "source": [
    "**Данные:** В работе предлагается использовать набор данных notMNIST, который состоит из изображений размерностью 28×28 первых 10 букв латинского алфавита (A … J, соответственно). Обучающая выборка содержит порядка 500 тыс. изображений, а тестовая – около 19 тыс.\n",
    "\n",
    "**Данные можно скачать по ссылке:**\n",
    "- https://commondatastorage.googleapis.com/books1000/notMNIST_large.tar.gz (большой набор данных);\n",
    "- https://commondatastorage.googleapis.com/books1000/notMNIST_small.tar.gz (маленький набор данных);\n",
    "\n",
    "Описание данных на английском языке доступно по ссылке:\n",
    "- http://yaroslavvb.blogspot.sg/2011/09/notmnist-dataset.html\n"
   ]
  },
  {
   "cell_type": "code",
   "execution_count": 1,
   "metadata": {},
   "outputs": [],
   "source": [
    "import tensorflow as tf\n",
    "import IPython.display as display\n",
    "from PIL import Image\n",
    "import numpy as np\n",
    "import matplotlib.pyplot as plt\n",
    "import random\n",
    "import os"
   ]
  },
  {
   "cell_type": "code",
   "execution_count": 2,
   "metadata": {},
   "outputs": [
    {
     "data": {
      "text/plain": [
       "529113"
      ]
     },
     "execution_count": 2,
     "metadata": {},
     "output_type": "execute_result"
    }
   ],
   "source": [
    "import pathlib\n",
    "\n",
    "train_data_dir = pathlib.Path('./Datasets/1-3/notMNIST_large')\n",
    "\n",
    "train_image_count = len(list(train_data_dir.glob('*/*.png')))\n",
    "train_image_count"
   ]
  },
  {
   "cell_type": "code",
   "execution_count": 3,
   "metadata": {},
   "outputs": [
    {
     "data": {
      "text/plain": [
       "18724"
      ]
     },
     "execution_count": 3,
     "metadata": {},
     "output_type": "execute_result"
    }
   ],
   "source": [
    "test_data_dir = pathlib.Path('./Datasets/1-3/notMNIST_small')\n",
    "test_image_count = len(list(test_data_dir.glob('*/*.png')))\n",
    "test_image_count"
   ]
  },
  {
   "cell_type": "code",
   "execution_count": 4,
   "metadata": {},
   "outputs": [
    {
     "data": {
      "text/plain": [
       "array(['H', 'F', 'E', 'I', 'D', 'B', 'A', 'J', 'C', 'G'], dtype='<U1')"
      ]
     },
     "execution_count": 4,
     "metadata": {},
     "output_type": "execute_result"
    }
   ],
   "source": [
    "BATCH_SIZE = 1000\n",
    "IMG_HEIGHT = 28\n",
    "IMG_WIDTH = 28\n",
    "CLASS_NAMES = np.array([item.name for item in train_data_dir.glob('*')])\n",
    "CLASS_NAMES"
   ]
  },
  {
   "cell_type": "code",
   "execution_count": 5,
   "metadata": {},
   "outputs": [
    {
     "name": "stdout",
     "output_type": "stream",
     "text": [
      "Found 529113 images belonging to 10 classes.\n"
     ]
    }
   ],
   "source": [
    "train_image_generator = tf.keras.preprocessing.image.ImageDataGenerator(rescale=1./255, validation_split=0.02)\n",
    "train_data_gen = train_image_generator.flow_from_directory(directory=str(train_data_dir),\n",
    "                                                     batch_size=BATCH_SIZE,\n",
    "                                                     shuffle=True,\n",
    "                                                     color_mode='grayscale',\n",
    "                                                     target_size=(IMG_HEIGHT, IMG_WIDTH),\n",
    "                                                     classes = list(CLASS_NAMES))"
   ]
  },
  {
   "cell_type": "code",
   "execution_count": 6,
   "metadata": {},
   "outputs": [
    {
     "name": "stdout",
     "output_type": "stream",
     "text": [
      "Found 18724 images belonging to 10 classes.\n"
     ]
    }
   ],
   "source": [
    "test_image_generator = tf.keras.preprocessing.image.ImageDataGenerator(rescale=1./255)\n",
    "test_data_gen = train_image_generator.flow_from_directory(directory=str(test_data_dir),\n",
    "                                                     batch_size=BATCH_SIZE,\n",
    "                                                     shuffle=True,\n",
    "                                                     color_mode='grayscale',\n",
    "                                                     target_size=(IMG_HEIGHT, IMG_WIDTH),\n",
    "                                                     classes = list(CLASS_NAMES))"
   ]
  },
  {
   "cell_type": "code",
   "execution_count": 19,
   "metadata": {},
   "outputs": [],
   "source": [
    "import random\n",
    "import datetime\n",
    "\n",
    "class Model:\n",
    "    EPOCH_COUNT = 10\n",
    "    COUNT_OF_BUTCHES = 530\n",
    "    SHUFFLE_BUFFER_SIZE = 100\n",
    "    ACTIVATION_FUNCTIONS = (\n",
    "        'linear',\n",
    "        'sigmoid', \n",
    "        'tanh',\n",
    "        'relu',\n",
    "    )\n",
    "    \n",
    "    def __init__(self, layers=[], optimizer=None):\n",
    "        self.layers = layers\n",
    "        self.optimizer = optimizer or tf.keras.optimizers.SGD(\n",
    "            learning_rate=0.1\n",
    "        )\n",
    "\n",
    "    def initialize(self):\n",
    "        loss_fn = tf.keras.losses.CategoricalCrossentropy(from_logits=True)\n",
    "\n",
    "        self.model = tf.keras.models.Sequential(self.layers)\n",
    "\n",
    "        self.model.compile(optimizer=self.optimizer, loss=loss_fn, metrics=['accuracy'])\n",
    "\n",
    "    def fit(self, x_train, y_train=None, **kwargs):\n",
    "        return self.model.fit(x_train,  y_train, epochs=self.EPOCH_COUNT, validation_split=0.05, **kwargs)\n",
    "\n",
    "    def fit_generator(self, generator, batch_count=None):\n",
    "        batch_count = batch_count or self.COUNT_OF_BUTCHES\n",
    "\n",
    "        now = datetime.datetime.now()\n",
    "        tran_accuracy = 0\n",
    "        val_accuracy = 0\n",
    "\n",
    "        for i in range(batch_count):\n",
    "            x, y = next(generator)\n",
    "            batch_history = self.fit(x, y, verbose=0)\n",
    "            tran_accuracy += batch_history.history['accuracy'][-1]\n",
    "            val_accuracy += batch_history.history['val_accuracy'][-1]\n",
    "\n",
    "        print('\\nSpent time:', datetime.datetime.now() - now)\n",
    "        print('Average train error:', tran_accuracy / batch_count)\n",
    "        print('Average validation error:', val_accuracy / batch_count)\n",
    "        return [tran_accuracy, val_accuracy]\n",
    "\n",
    "    def test(self, x_test, y_test=None):\n",
    "        return self.model.evaluate(x_test,  y_test, verbose=1)\n",
    "    \n",
    "    def summary(self):\n",
    "        return self.model.summary()"
   ]
  },
  {
   "cell_type": "markdown",
   "metadata": {},
   "source": [
    "### Задание 1. Реализуйте нейронную сеть с двумя сверточными слоями, и одним полносвязным с нейронами с кусочно-линейной функцией активации. Какова точность построенное модели?\n"
   ]
  },
  {
   "cell_type": "code",
   "execution_count": 20,
   "metadata": {},
   "outputs": [],
   "source": [
    "# first Conv layer is input one\n",
    "\n",
    "layers = [\n",
    "    tf.keras.layers.Conv2D(32, 3, activation='relu', input_shape=(28, 28, 1)),\n",
    "    tf.keras.layers.Conv2D(32, 3, padding='same', activation='relu'),\n",
    "    tf.keras.layers.Flatten(),\n",
    "    tf.keras.layers.Dense(10, activation='sigmoid')\n",
    "]"
   ]
  },
  {
   "cell_type": "code",
   "execution_count": 21,
   "metadata": {},
   "outputs": [],
   "source": [
    "def test_model(layers):\n",
    "    model = Model(layers)\n",
    "    model.initialize()\n",
    "    print(model.summary(), '\\n')\n",
    "    \n",
    "    model.fit_generator(train_data_gen)\n",
    "    \n",
    "    model.test(test_data_gen)"
   ]
  },
  {
   "cell_type": "code",
   "execution_count": 22,
   "metadata": {},
   "outputs": [
    {
     "name": "stdout",
     "output_type": "stream",
     "text": [
      "Model: \"sequential_4\"\n",
      "_________________________________________________________________\n",
      "Layer (type)                 Output Shape              Param #   \n",
      "=================================================================\n",
      "conv2d_7 (Conv2D)            (None, 26, 26, 32)        320       \n",
      "_________________________________________________________________\n",
      "conv2d_8 (Conv2D)            (None, 26, 26, 32)        9248      \n",
      "_________________________________________________________________\n",
      "flatten_4 (Flatten)          (None, 21632)             0         \n",
      "_________________________________________________________________\n",
      "dense_6 (Dense)              (None, 10)                216330    \n",
      "=================================================================\n",
      "Total params: 225,898\n",
      "Trainable params: 225,898\n",
      "Non-trainable params: 0\n",
      "_________________________________________________________________\n",
      "None \n",
      "\n",
      "\n",
      "Spent time: 0:45:12.965865\n",
      "Average train error: 0.881724117049631\n",
      "Average validation error: 0.8686792408520321\n",
      "WARNING:tensorflow:sample_weight modes were coerced from\n",
      "  ...\n",
      "    to  \n",
      "  ['...']\n",
      "19/19 [==============================] - 4s 187ms/step - loss: 1.5287 - accuracy: 0.9384\n"
     ]
    }
   ],
   "source": [
    "test_model(layers)"
   ]
  },
  {
   "cell_type": "markdown",
   "metadata": {},
   "source": [
    "Данная модель показывала следующую точность:\n",
    "- обучающая выборка: 0.88\n",
    "- валидационная выборка: 0.86\n",
    "- тестовая выборка: 0.94"
   ]
  },
  {
   "cell_type": "markdown",
   "metadata": {},
   "source": [
    "### Задание 2. Замените один из сверточных слоев на слой, реализующий операцию пулинга (Pooling) с функцией максимума или среднего. Как это повлияло на точность классификатора?\n"
   ]
  },
  {
   "cell_type": "code",
   "execution_count": 24,
   "metadata": {},
   "outputs": [],
   "source": [
    "layers = [\n",
    "    tf.keras.layers.Conv2D(32, 3, activation='relu', input_shape=(28, 28, 1)),\n",
    "    tf.keras.layers.MaxPool2D(),\n",
    "    tf.keras.layers.Flatten(),\n",
    "    tf.keras.layers.Dense(10, activation='sigmoid')\n",
    "]"
   ]
  },
  {
   "cell_type": "code",
   "execution_count": 25,
   "metadata": {},
   "outputs": [
    {
     "name": "stdout",
     "output_type": "stream",
     "text": [
      "Model: \"sequential_5\"\n",
      "_________________________________________________________________\n",
      "Layer (type)                 Output Shape              Param #   \n",
      "=================================================================\n",
      "conv2d_9 (Conv2D)            (None, 26, 26, 32)        320       \n",
      "_________________________________________________________________\n",
      "max_pooling2d_1 (MaxPooling2 (None, 13, 13, 32)        0         \n",
      "_________________________________________________________________\n",
      "flatten_5 (Flatten)          (None, 5408)              0         \n",
      "_________________________________________________________________\n",
      "dense_7 (Dense)              (None, 10)                54090     \n",
      "=================================================================\n",
      "Total params: 54,410\n",
      "Trainable params: 54,410\n",
      "Non-trainable params: 0\n",
      "_________________________________________________________________\n",
      "None \n",
      "\n",
      "\n",
      "Spent time: 0:14:58.653167\n",
      "Average train error: 0.8712481779872246\n",
      "Average validation error: 0.8601383593847167\n",
      "WARNING:tensorflow:sample_weight modes were coerced from\n",
      "  ...\n",
      "    to  \n",
      "  ['...']\n",
      "19/19 [==============================] - 3s 139ms/step - loss: 1.5283 - accuracy: 0.9356\n"
     ]
    }
   ],
   "source": [
    "test_model(layers)"
   ]
  },
  {
   "cell_type": "markdown",
   "metadata": {},
   "source": [
    "Точность классификатора почти не изменилась (слегка понизилась), но скорость обучения значительно повысилась."
   ]
  },
  {
   "cell_type": "markdown",
   "metadata": {},
   "source": [
    "### Задание 3. Реализуйте классическую архитектуру сверточных сетей LeNet-5 (http://yann.lecun.com/exdb/lenet/)."
   ]
  },
  {
   "cell_type": "code",
   "execution_count": 26,
   "metadata": {},
   "outputs": [],
   "source": [
    "layers = [\n",
    "    tf.keras.layers.Conv2D(32, 6, activation='relu', input_shape=(28, 28, 1)),\n",
    "    tf.keras.layers.AveragePooling2D(),\n",
    "    tf.keras.layers.Conv2D(32, 6, activation='relu'),\n",
    "    tf.keras.layers.AveragePooling2D(),\n",
    "    tf.keras.layers.Flatten(),\n",
    "    tf.keras.layers.Dense(units=120, activation='relu'),\n",
    "    tf.keras.layers.Dense(units=84, activation='relu'),\n",
    "    tf.keras.layers.Dense(units=10, activation = 'softmax'),\n",
    "]"
   ]
  },
  {
   "cell_type": "code",
   "execution_count": 27,
   "metadata": {},
   "outputs": [
    {
     "name": "stdout",
     "output_type": "stream",
     "text": [
      "Model: \"sequential_6\"\n",
      "_________________________________________________________________\n",
      "Layer (type)                 Output Shape              Param #   \n",
      "=================================================================\n",
      "conv2d_10 (Conv2D)           (None, 23, 23, 32)        1184      \n",
      "_________________________________________________________________\n",
      "average_pooling2d_2 (Average (None, 11, 11, 32)        0         \n",
      "_________________________________________________________________\n",
      "conv2d_11 (Conv2D)           (None, 6, 6, 32)          36896     \n",
      "_________________________________________________________________\n",
      "average_pooling2d_3 (Average (None, 3, 3, 32)          0         \n",
      "_________________________________________________________________\n",
      "flatten_6 (Flatten)          (None, 288)               0         \n",
      "_________________________________________________________________\n",
      "dense_8 (Dense)              (None, 120)               34680     \n",
      "_________________________________________________________________\n",
      "dense_9 (Dense)              (None, 84)                10164     \n",
      "_________________________________________________________________\n",
      "dense_10 (Dense)             (None, 10)                850       \n",
      "=================================================================\n",
      "Total params: 83,774\n",
      "Trainable params: 83,774\n",
      "Non-trainable params: 0\n",
      "_________________________________________________________________\n",
      "None \n",
      "\n",
      "\n",
      "Spent time: 0:22:08.863795\n",
      "Average train error: 0.8743035759565965\n",
      "Average validation error: 0.839194965868626\n",
      "WARNING:tensorflow:sample_weight modes were coerced from\n",
      "  ...\n",
      "    to  \n",
      "  ['...']\n",
      "19/19 [==============================] - 3s 161ms/step - loss: 1.5265 - accuracy: 0.9343\n"
     ]
    }
   ],
   "source": [
    "test_model(layers)"
   ]
  },
  {
   "cell_type": "markdown",
   "metadata": {},
   "source": [
    "### Задание 4. Сравните максимальные точности моделей, построенных в лабораторных работах 1-3. Как можно объяснить полученные различия?\n"
   ]
  },
  {
   "cell_type": "markdown",
   "metadata": {},
   "source": [
    "Лучше всего показали себя **сверточные нейронные сети** с точностью в **0.93-0.94**. Это можно объяснить выделением действительно важных признаков в изображениях и обучать нейронную сеть на соответсвиях этих признаков и результате.\n",
    "\n",
    "Следующий результат показала **модель с полносвязанными нейроннами** ее наибольшая точность составила **0.91**. Полносвязанные нейронные сети также выделяют важные признаки в изображении, однако из-за огромного количества связей между нейронаними, важные признаки могут размываться, а второстепенные наоборот более честко выделяться - это непрерывно ведет к переобучению. Получение более точных результатов непрерывно требует идеального подбора параметров регуляризации (l1, l2, dropout).\n",
    "\n",
    "**Простой классификатор** показал точность **0.835**. Что говорит о том, что классификатор в общем неплох, но ввиду того, что классификатор не выделяет важные/не важные признаки, то для хороших результатов требуется большое количество данных, при этом так же предется следить за переобучением."
   ]
  },
  {
   "cell_type": "code",
   "execution_count": null,
   "metadata": {},
   "outputs": [],
   "source": []
  }
 ],
 "metadata": {
  "kernelspec": {
   "display_name": "Python 3.7.4 64-bit ('ml': conda)",
   "language": "python",
   "name": "python37464bitmlconda307ef14b22654f0abeb262b86127395b"
  },
  "language_info": {
   "codemirror_mode": {
    "name": "ipython",
    "version": 3
   },
   "file_extension": ".py",
   "mimetype": "text/x-python",
   "name": "python",
   "nbconvert_exporter": "python",
   "pygments_lexer": "ipython3",
   "version": "3.7.4"
  }
 },
 "nbformat": 4,
 "nbformat_minor": 2
}
