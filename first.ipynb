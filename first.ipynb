{
 "cells": [
  {
   "cell_type": "markdown",
   "metadata": {},
   "source": [
    "# Отчёт по лабораторной работе №1 \"Логистическая регрессия в качестве нейронной сети\""
   ]
  },
  {
   "cell_type": "markdown",
   "metadata": {},
   "source": [
    "**Данные:** В работе предлагается использовать набор данных notMNIST, который состоит из изображений размерностью 28×28 первых 10 букв латинского алфавита (A … J, соответственно). Обучающая выборка содержит порядка 500 тыс. изображений, а тестовая – около 19 тыс.\n",
    "\n",
    "**Данные можно скачать по ссылке:**\n",
    "- https://commondatastorage.googleapis.com/books1000/notMNIST_large.tar.gz (большой набор данных);\n",
    "- https://commondatastorage.googleapis.com/books1000/notMNIST_small.tar.gz (маленький набор данных);\n",
    "\n",
    "Описание данных на английском языке доступно по ссылке:\n",
    "- http://yaroslavvb.blogspot.sg/2011/09/notmnist-dataset.html\n"
   ]
  },
  {
   "cell_type": "markdown",
   "metadata": {},
   "source": [
    "### 1. Загрузите данные и отобразите на экране несколько из изображений с помощью языка Python;"
   ]
  },
  {
   "cell_type": "code",
   "execution_count": 8,
   "metadata": {},
   "outputs": [],
   "source": [
    "import os\n",
    "from scipy.io import loadmat\n",
    "import numpy as np\n",
    "import pathlib\n",
    "\n",
    "data_dir = pathlib.Path('./Datasets/1-3/notMNIST_large')\n",
    "dataset_dir = './Datasets/1-3'\n",
    "CLASS_NAMES = np.array([item.name for item in data_dir.glob('*')])\n",
    "CLASS_NAMES.sort()\n",
    "\n",
    "dataset = loadmat(f'{dataset_dir}/notMNIST_large.mat')"
   ]
  },
  {
   "cell_type": "code",
   "execution_count": 9,
   "metadata": {},
   "outputs": [],
   "source": [
    "X = dataset['images']\n",
    "Y = dataset['labels'][0]"
   ]
  },
  {
   "cell_type": "code",
   "execution_count": 10,
   "metadata": {},
   "outputs": [
    {
     "data": {
      "text/plain": [
       "<Figure size 500x600 with 25 Axes>"
      ]
     },
     "metadata": {},
     "output_type": "display_data"
    }
   ],
   "source": [
    "import numpy as np\n",
    "import matplotlib.pyplot as plt\n",
    "\n",
    "random_ids = np.random.choice(X.shape[0], 25, replace=False)\n",
    "fig, axs = plt.subplots(5, 5, figsize=(5, 6))\n",
    "axs = axs.flatten()\n",
    "\n",
    "for i, random_id in enumerate(random_ids):\n",
    "    image = X[random_id, :, :]\n",
    "    axs[i].imshow(image, cmap='gray')\n",
    "    axs[i].set_title(CLASS_NAMES[int(Y[random_id])])\n",
    "    axs[i].xaxis.set_visible(False)\n",
    "    axs[i].yaxis.set_visible(False)\n",
    "\n",
    "plt.show()"
   ]
  },
  {
   "cell_type": "markdown",
   "metadata": {},
   "source": [
    "### 2. Проверьте, что классы являются сбалансированными, т.е. количество изображений, принадлежащих каждому из классов, примерно одинаково (В данной задаче 10 классов)."
   ]
  },
  {
   "cell_type": "code",
   "execution_count": 11,
   "metadata": {},
   "outputs": [
    {
     "name": "stdout",
     "output_type": "stream",
     "text": [
      "Counter({7.0: 52912, 5.0: 52912, 4.0: 52912, 8.0: 52912, 2.0: 52912, 6.0: 52912, 3.0: 52911, 9.0: 52911, 1.0: 52910, 0.0: 52909})\n"
     ]
    }
   ],
   "source": [
    "from collections import Counter\n",
    "\n",
    "label_counts = Counter(Y)\n",
    "print(label_counts)"
   ]
  },
  {
   "cell_type": "markdown",
   "metadata": {},
   "source": [
    "Максимальная разница между классами равно 3 изображениям. По сравнению со количеством изображений в одном классе это мелочи. Следовательно, классы сбалансированы."
   ]
  },
  {
   "cell_type": "markdown",
   "metadata": {},
   "source": [
    "### 3. Разделите данные на три подвыборки: обучающую (200 тыс. изображений), валидационную (10 тыс. изображений) и контрольную (тестовую) (19 тыс. изображений);\n"
   ]
  },
  {
   "cell_type": "code",
   "execution_count": 12,
   "metadata": {},
   "outputs": [
    {
     "name": "stdout",
     "output_type": "stream",
     "text": [
      "[True, True, True, True, True, True, True, True, True, True]\n"
     ]
    }
   ],
   "source": [
    "start = 0\n",
    "unique_keys = []\n",
    "for i, count in enumerate(label_counts.values()):\n",
    "    unique_keys.append(len(Counter(Y[start:start + count]).keys()) == 1)\n",
    "    start += count\n",
    "\n",
    "print(unique_keys)"
   ]
  },
  {
   "cell_type": "markdown",
   "metadata": {},
   "source": [
    "Следовательно, наш датасет отсортирован"
   ]
  },
  {
   "cell_type": "code",
   "execution_count": 13,
   "metadata": {},
   "outputs": [
    {
     "name": "stdout",
     "output_type": "stream",
     "text": [
      "{7.0: range(0, 52912), 5.0: range(52912, 105824), 4.0: range(105824, 158736), 8.0: range(158736, 211648), 3.0: range(211648, 264559), 1.0: range(264559, 317469), 0.0: range(317469, 370378), 9.0: range(370378, 423289), 2.0: range(423289, 476201), 6.0: range(476201, 529113)}\n"
     ]
    }
   ],
   "source": [
    "labels_dict = {}\n",
    "start = 0\n",
    "for key, count in label_counts.items():\n",
    "    labels_dict[key] = range(start, start + count)\n",
    "    start += count\n",
    "\n",
    "print(labels_dict)"
   ]
  },
  {
   "cell_type": "code",
   "execution_count": 14,
   "metadata": {},
   "outputs": [],
   "source": [
    "def create_dataset(length):\n",
    "    temp_dataset = None\n",
    "    count = int(length / len(labels_dict.keys()))\n",
    "    for key, value in labels_dict.items():\n",
    "        if temp_dataset is not None:\n",
    "            temp_dataset = np.concatenate([temp_dataset, np.random.choice(value, count, replace=False)])\n",
    "        else:\n",
    "            temp_dataset = np.random.choice(value, count, replace=False)\n",
    "\n",
    "    return temp_dataset\n",
    "\n",
    "training_dataset = create_dataset(200000)\n",
    "validation_dataset = create_dataset(10000)\n",
    "test_dataset = create_dataset(19000)"
   ]
  },
  {
   "cell_type": "markdown",
   "metadata": {},
   "source": [
    "### 4. Проверьте, что данные из обучающей выборки не пересекаются с данными из валидационной и контрольной выборок. Другими словами, избавьтесь от дубликатов в обучающей выборке.\n"
   ]
  },
  {
   "cell_type": "code",
   "execution_count": 15,
   "metadata": {},
   "outputs": [
    {
     "name": "stdout",
     "output_type": "stream",
     "text": [
      "training_dataset_counter: Counter({5.0: 18945, 4.0: 18929, 7.0: 18922, 9.0: 18922, 6.0: 18921, 1.0: 18913, 3.0: 18911, 0.0: 18904, 8.0: 18900, 2.0: 18892})\n"
     ]
    }
   ],
   "source": [
    "training_dataset = np.array(list(set(training_dataset) - set(test_dataset) - set(validation_dataset)))\n",
    "\n",
    "\n",
    "print('training_dataset_counter:', Counter(Y[training_dataset.tolist()]))"
   ]
  },
  {
   "cell_type": "code",
   "execution_count": 16,
   "metadata": {},
   "outputs": [],
   "source": [
    "import pandas as pd\n",
    "\n",
    "\n",
    "def save_data(X, Y, dataset_type):\n",
    "    df = pd.DataFrame().append([{'X': X, 'Y': Y}])\n",
    "    df.to_pickle(f'{dataset_dir}/{dataset_type}.pkl')\n",
    "\n",
    "save_data(X[training_dataset, :, :], Y[training_dataset], 'training')\n",
    "save_data(X[validation_dataset, :, :], Y[validation_dataset], 'validation')\n",
    "save_data(X[test_dataset, :, :], Y[test_dataset], 'test')"
   ]
  },
  {
   "cell_type": "markdown",
   "metadata": {},
   "source": [
    "### 5. Постройте простейший классификатор (например, с помощью логистической регрессии). Постройте график зависимости точности классификатора от размера обучающей выборки (50, 100, 1000, 50000). Для построения классификатора можете использовать библиотеку SkLearn (http://scikit-learn.org)."
   ]
  },
  {
   "cell_type": "code",
   "execution_count": 17,
   "metadata": {},
   "outputs": [],
   "source": [
    "image_dataset = X.reshape((529113, 28*28))"
   ]
  },
  {
   "cell_type": "code",
   "execution_count": 18,
   "metadata": {},
   "outputs": [],
   "source": [
    "from sklearn.linear_model import LogisticRegression"
   ]
  },
  {
   "cell_type": "code",
   "execution_count": 19,
   "metadata": {},
   "outputs": [],
   "source": [
    "def get_score(dataset_len):\n",
    "    temp_dataset = np.random.choice(training_dataset, dataset_len, replace=False)\n",
    "    clf = LogisticRegression(solver='lbfgs', random_state=0, verbose=2, n_jobs=3, multi_class='auto')\n",
    "    clf.fit(image_dataset[temp_dataset, :], Y[temp_dataset])\n",
    "    return clf.score(image_dataset[test_dataset, :], Y[test_dataset])"
   ]
  },
  {
   "cell_type": "code",
   "execution_count": 20,
   "metadata": {},
   "outputs": [
    {
     "name": "stderr",
     "output_type": "stream",
     "text": [
      "[Parallel(n_jobs=3)]: Using backend LokyBackend with 3 concurrent workers.\n",
      "[Parallel(n_jobs=3)]: Done   1 out of   1 | elapsed:    5.1s finished\n",
      "[Parallel(n_jobs=3)]: Using backend LokyBackend with 3 concurrent workers.\n",
      "[Parallel(n_jobs=3)]: Done   1 out of   1 | elapsed:    2.6s finished\n",
      "[Parallel(n_jobs=3)]: Using backend LokyBackend with 3 concurrent workers.\n",
      "[Parallel(n_jobs=3)]: Done   1 out of   1 | elapsed:    1.1s finished\n",
      "[Parallel(n_jobs=3)]: Using backend LokyBackend with 3 concurrent workers.\n"
     ]
    },
    {
     "name": "stdout",
     "output_type": "stream",
     "text": [
      "[0.5731052631578948, 0.6405263157894737, 0.7414736842105263, 0.827]\n"
     ]
    },
    {
     "name": "stderr",
     "output_type": "stream",
     "text": [
      "[Parallel(n_jobs=3)]: Done   1 out of   1 | elapsed:   20.0s finished\n"
     ]
    }
   ],
   "source": [
    "datasets_lens = [50, 100, 1000, 50000]\n",
    "datasets_scores = [get_score(length) for length in datasets_lens]\n",
    "print(datasets_scores)"
   ]
  },
  {
   "cell_type": "code",
   "execution_count": 21,
   "metadata": {},
   "outputs": [
    {
     "data": {
      "text/plain": [
       "[<matplotlib.lines.Line2D at 0x7fd910369410>]"
      ]
     },
     "execution_count": 21,
     "metadata": {},
     "output_type": "execute_result"
    },
    {
     "data": {
      "image/png": "[encoded data removed]",
      "text/plain": [
       "<Figure size 432x288 with 1 Axes>"
      ]
     },
     "metadata": {
      "needs_background": "light"
     },
     "output_type": "display_data"
    }
   ],
   "source": [
    "import matplotlib.pyplot as plt\n",
    "\n",
    "plt.plot(datasets_lens, datasets_scores, 'o')"
   ]
  },
  {
   "cell_type": "code",
   "execution_count": 22,
   "metadata": {},
   "outputs": [
    {
     "name": "stderr",
     "output_type": "stream",
     "text": [
      "[Parallel(n_jobs=3)]: Using backend LokyBackend with 3 concurrent workers.\n",
      "[Parallel(n_jobs=3)]: Done   1 out of   1 | elapsed:  1.7min finished\n"
     ]
    },
    {
     "data": {
      "text/plain": [
       "0.8352105263157895"
      ]
     },
     "execution_count": 22,
     "metadata": {},
     "output_type": "execute_result"
    }
   ],
   "source": [
    "clf = LogisticRegression(solver='lbfgs', random_state=0, verbose=2, n_jobs=3, multi_class='auto')\n",
    "clf.fit(image_dataset[training_dataset, :], Y[training_dataset])\n",
    "clf.score(image_dataset[test_dataset, :], Y[test_dataset])"
   ]
  },
  {
   "cell_type": "code",
   "execution_count": null,
   "metadata": {},
   "outputs": [],
   "source": []
  }
 ],
 "metadata": {
  "file_extension": ".py",
  "kernelspec": {
   "display_name": "Python 3",
   "language": "python",
   "name": "python3"
  },
  "language_info": {
   "codemirror_mode": {
    "name": "ipython",
    "version": 3
   },
   "file_extension": ".py",
   "mimetype": "text/x-python",
   "name": "python",
   "nbconvert_exporter": "python",
   "pygments_lexer": "ipython3",
   "version": "3.7.4"
  },
  "mimetype": "text/x-python",
  "name": "python",
  "npconvert_exporter": "python",
  "pygments_lexer": "ipython3",
  "version": 3
 },
 "nbformat": 4,
 "nbformat_minor": 2
}
